{
  "cells": [
    {
      "cell_type": "markdown",
      "metadata": {
        "id": "G_Ywa297kIvZ"
      },
      "source": [
        "# Assignment 2 - GroupBy"
      ]
    },
    {
      "cell_type": "code",
      "execution_count": 1,
      "metadata": {
        "id": "1urXp0gZkIvb",
        "outputId": "77af1337-f92a-441f-e501-b1a84eb176a6",
        "colab": {
          "base_uri": "https://localhost:8080/"
        }
      },
      "outputs": [
        {
          "output_type": "stream",
          "name": "stdout",
          "text": [
            "Cloning into 'DATA'...\n",
            "remote: Enumerating objects: 101, done.\u001b[K\n",
            "remote: Counting objects: 100% (14/14), done.\u001b[K\n",
            "remote: Compressing objects: 100% (12/12), done.\u001b[K\n",
            "remote: Total 101 (delta 2), reused 14 (delta 2), pack-reused 87\u001b[K\n",
            "Receiving objects: 100% (101/101), 146.44 MiB | 10.56 MiB/s, done.\n",
            "Resolving deltas: 100% (23/23), done.\n",
            "Checking out files: 100% (69/69), done.\n"
          ]
        }
      ],
      "source": [
        "#get data\n",
        "!git clone https://github.com/keuperj/DATA.git"
      ]
    },
    {
      "cell_type": "markdown",
      "metadata": {
        "id": "w7IXMgoLkIvc"
      },
      "source": [
        "### Step 1. Import the necessary libraries"
      ]
    },
    {
      "cell_type": "code",
      "execution_count": 3,
      "metadata": {
        "id": "QBdD9uUikIvc"
      },
      "outputs": [],
      "source": [
        "import pandas as pd"
      ]
    },
    {
      "cell_type": "markdown",
      "metadata": {
        "id": "Loaamo0zkIvc"
      },
      "source": [
        "### Step 2. \n",
        "User ***Jupyter Lab*** to view ``DATA/drinks.cvs``."
      ]
    },
    {
      "cell_type": "markdown",
      "metadata": {
        "id": "U1s1SDf0kIvd"
      },
      "source": [
        "### Step 3. Assign it to a variable called drinks."
      ]
    },
    {
      "cell_type": "code",
      "execution_count": 4,
      "metadata": {
        "id": "hQ7zltz6kIvd"
      },
      "outputs": [],
      "source": [
        "drinks = pd.read_csv(\"DATA/drinks.csv\")"
      ]
    },
    {
      "cell_type": "markdown",
      "metadata": {
        "id": "MQ3_gqhmkIvd"
      },
      "source": [
        "### Step 4. Which continent drinks the most beer on average?"
      ]
    },
    {
      "cell_type": "code",
      "execution_count": 6,
      "metadata": {
        "id": "VUjlPuxokIvd",
        "outputId": "03135b3c-394e-4cac-debb-a60a911e2a5f",
        "colab": {
          "base_uri": "https://localhost:8080/",
          "height": 37
        }
      },
      "outputs": [
        {
          "output_type": "execute_result",
          "data": {
            "text/plain": [
              "'EU'"
            ],
            "application/vnd.google.colaboratory.intrinsic+json": {
              "type": "string"
            }
          },
          "metadata": {},
          "execution_count": 6
        }
      ],
      "source": [
        "b = drinks.groupby(\"continent\")[\"beer_servings\"]\n",
        "ls = {name:group.mean() for name,group in b}\n",
        "max(ls,key=ls.get)"
      ]
    },
    {
      "cell_type": "markdown",
      "metadata": {
        "id": "CZ7V0akqkIvd"
      },
      "source": [
        "### Step 5. For each continent print the statistics for wine consumption."
      ]
    },
    {
      "cell_type": "code",
      "execution_count": 7,
      "metadata": {
        "id": "dzR67FwmkIvd",
        "outputId": "5917ae5c-1aed-48ab-b485-a3d98d8c3f09",
        "colab": {
          "base_uri": "https://localhost:8080/"
        }
      },
      "outputs": [
        {
          "output_type": "stream",
          "name": "stdout",
          "text": [
            "AF\n",
            "            count        mean        std  min   25%    50%     75%    max\n",
            "continent                                                               \n",
            "AF          53.0   16.264151  38.846419  0.0   1.0    2.0   13.00  233.0\n",
            "AS          44.0    9.068182  21.667034  0.0   0.0    1.0    8.00  123.0\n",
            "EU          45.0  142.222222  97.421738  0.0  59.0  128.0  195.00  370.0\n",
            "OC          16.0   35.625000  64.555790  0.0   1.0    8.5   23.25  212.0\n",
            "SA          12.0   62.416667  88.620189  1.0   3.0   12.0   98.50  221.0\n",
            "AS\n",
            "            count        mean        std  min   25%    50%     75%    max\n",
            "continent                                                               \n",
            "AF          53.0   16.264151  38.846419  0.0   1.0    2.0   13.00  233.0\n",
            "AS          44.0    9.068182  21.667034  0.0   0.0    1.0    8.00  123.0\n",
            "EU          45.0  142.222222  97.421738  0.0  59.0  128.0  195.00  370.0\n",
            "OC          16.0   35.625000  64.555790  0.0   1.0    8.5   23.25  212.0\n",
            "SA          12.0   62.416667  88.620189  1.0   3.0   12.0   98.50  221.0\n",
            "EU\n",
            "            count        mean        std  min   25%    50%     75%    max\n",
            "continent                                                               \n",
            "AF          53.0   16.264151  38.846419  0.0   1.0    2.0   13.00  233.0\n",
            "AS          44.0    9.068182  21.667034  0.0   0.0    1.0    8.00  123.0\n",
            "EU          45.0  142.222222  97.421738  0.0  59.0  128.0  195.00  370.0\n",
            "OC          16.0   35.625000  64.555790  0.0   1.0    8.5   23.25  212.0\n",
            "SA          12.0   62.416667  88.620189  1.0   3.0   12.0   98.50  221.0\n",
            "OC\n",
            "            count        mean        std  min   25%    50%     75%    max\n",
            "continent                                                               \n",
            "AF          53.0   16.264151  38.846419  0.0   1.0    2.0   13.00  233.0\n",
            "AS          44.0    9.068182  21.667034  0.0   0.0    1.0    8.00  123.0\n",
            "EU          45.0  142.222222  97.421738  0.0  59.0  128.0  195.00  370.0\n",
            "OC          16.0   35.625000  64.555790  0.0   1.0    8.5   23.25  212.0\n",
            "SA          12.0   62.416667  88.620189  1.0   3.0   12.0   98.50  221.0\n",
            "SA\n",
            "            count        mean        std  min   25%    50%     75%    max\n",
            "continent                                                               \n",
            "AF          53.0   16.264151  38.846419  0.0   1.0    2.0   13.00  233.0\n",
            "AS          44.0    9.068182  21.667034  0.0   0.0    1.0    8.00  123.0\n",
            "EU          45.0  142.222222  97.421738  0.0  59.0  128.0  195.00  370.0\n",
            "OC          16.0   35.625000  64.555790  0.0   1.0    8.5   23.25  212.0\n",
            "SA          12.0   62.416667  88.620189  1.0   3.0   12.0   98.50  221.0\n"
          ]
        }
      ],
      "source": [
        "wg = drinks.groupby(\"continent\")[\"wine_servings\"]\n",
        "for name, group in wg:\n",
        "  print(name + \"\\n\", wg.describe())"
      ]
    },
    {
      "cell_type": "markdown",
      "metadata": {
        "id": "GITeKm4pkIvd"
      },
      "source": [
        "### Step 6. Print the mean alcoohol consumption per continent for every column"
      ]
    },
    {
      "cell_type": "code",
      "execution_count": 8,
      "metadata": {
        "id": "nAUUcg_FkIvd",
        "outputId": "27c087b7-a5e4-48fd-d6b7-045c7bfb844d",
        "colab": {
          "base_uri": "https://localhost:8080/"
        }
      },
      "outputs": [
        {
          "output_type": "stream",
          "name": "stdout",
          "text": [
            "AF\n",
            "            beer_servings  spirit_servings  wine_servings  \\\n",
            "continent                                                  \n",
            "AF             61.471698        16.339623      16.264151   \n",
            "AS             37.045455        60.840909       9.068182   \n",
            "EU            193.777778       132.555556     142.222222   \n",
            "OC             89.687500        58.437500      35.625000   \n",
            "SA            175.083333       114.750000      62.416667   \n",
            "\n",
            "           total_litres_of_pure_alcohol  \n",
            "continent                                \n",
            "AF                             3.007547  \n",
            "AS                             2.170455  \n",
            "EU                             8.617778  \n",
            "OC                             3.381250  \n",
            "SA                             6.308333  \n",
            "AS\n",
            "            beer_servings  spirit_servings  wine_servings  \\\n",
            "continent                                                  \n",
            "AF             61.471698        16.339623      16.264151   \n",
            "AS             37.045455        60.840909       9.068182   \n",
            "EU            193.777778       132.555556     142.222222   \n",
            "OC             89.687500        58.437500      35.625000   \n",
            "SA            175.083333       114.750000      62.416667   \n",
            "\n",
            "           total_litres_of_pure_alcohol  \n",
            "continent                                \n",
            "AF                             3.007547  \n",
            "AS                             2.170455  \n",
            "EU                             8.617778  \n",
            "OC                             3.381250  \n",
            "SA                             6.308333  \n",
            "EU\n",
            "            beer_servings  spirit_servings  wine_servings  \\\n",
            "continent                                                  \n",
            "AF             61.471698        16.339623      16.264151   \n",
            "AS             37.045455        60.840909       9.068182   \n",
            "EU            193.777778       132.555556     142.222222   \n",
            "OC             89.687500        58.437500      35.625000   \n",
            "SA            175.083333       114.750000      62.416667   \n",
            "\n",
            "           total_litres_of_pure_alcohol  \n",
            "continent                                \n",
            "AF                             3.007547  \n",
            "AS                             2.170455  \n",
            "EU                             8.617778  \n",
            "OC                             3.381250  \n",
            "SA                             6.308333  \n",
            "OC\n",
            "            beer_servings  spirit_servings  wine_servings  \\\n",
            "continent                                                  \n",
            "AF             61.471698        16.339623      16.264151   \n",
            "AS             37.045455        60.840909       9.068182   \n",
            "EU            193.777778       132.555556     142.222222   \n",
            "OC             89.687500        58.437500      35.625000   \n",
            "SA            175.083333       114.750000      62.416667   \n",
            "\n",
            "           total_litres_of_pure_alcohol  \n",
            "continent                                \n",
            "AF                             3.007547  \n",
            "AS                             2.170455  \n",
            "EU                             8.617778  \n",
            "OC                             3.381250  \n",
            "SA                             6.308333  \n",
            "SA\n",
            "            beer_servings  spirit_servings  wine_servings  \\\n",
            "continent                                                  \n",
            "AF             61.471698        16.339623      16.264151   \n",
            "AS             37.045455        60.840909       9.068182   \n",
            "EU            193.777778       132.555556     142.222222   \n",
            "OC             89.687500        58.437500      35.625000   \n",
            "SA            175.083333       114.750000      62.416667   \n",
            "\n",
            "           total_litres_of_pure_alcohol  \n",
            "continent                                \n",
            "AF                             3.007547  \n",
            "AS                             2.170455  \n",
            "EU                             8.617778  \n",
            "OC                             3.381250  \n",
            "SA                             6.308333  \n"
          ]
        }
      ],
      "source": [
        "c = drinks.groupby(\"continent\")\n",
        "for name,group in c:\n",
        "  print(name + \"\\n\", c[[\"beer_servings\",\"spirit_servings\",\"wine_servings\",\"total_litres_of_pure_alcohol\"]].mean())"
      ]
    },
    {
      "cell_type": "markdown",
      "metadata": {
        "id": "ilEFgdnokIve"
      },
      "source": [
        "### Step 7. Print the median alcoohol consumption per continent for every column"
      ]
    },
    {
      "cell_type": "code",
      "execution_count": 10,
      "metadata": {
        "id": "SOknS89akIve",
        "outputId": "7815c35a-de4b-421d-e8b8-b009a0a2e54e",
        "colab": {
          "base_uri": "https://localhost:8080/"
        }
      },
      "outputs": [
        {
          "output_type": "stream",
          "name": "stdout",
          "text": [
            "AF\n",
            " beer_servings                   32.0\n",
            "spirit_servings                  3.0\n",
            "wine_servings                    2.0\n",
            "total_litres_of_pure_alcohol     2.3\n",
            "dtype: float64\n",
            "AS\n",
            " beer_servings                   17.5\n",
            "spirit_servings                 16.0\n",
            "wine_servings                    1.0\n",
            "total_litres_of_pure_alcohol     1.2\n",
            "dtype: float64\n",
            "EU\n",
            " beer_servings                   219.0\n",
            "spirit_servings                 122.0\n",
            "wine_servings                   128.0\n",
            "total_litres_of_pure_alcohol     10.0\n",
            "dtype: float64\n",
            "OC\n",
            " beer_servings                   52.50\n",
            "spirit_servings                 37.00\n",
            "wine_servings                    8.50\n",
            "total_litres_of_pure_alcohol     1.75\n",
            "dtype: float64\n",
            "SA\n",
            " beer_servings                   162.50\n",
            "spirit_servings                 108.50\n",
            "wine_servings                    12.00\n",
            "total_litres_of_pure_alcohol      6.85\n",
            "dtype: float64\n"
          ]
        }
      ],
      "source": [
        "groups = drinks.groupby(\"continent\")\n",
        "for name,group in groups:\n",
        "  print(name + \"\\n\", group[[\"beer_servings\",\"spirit_servings\",\"wine_servings\",\"total_litres_of_pure_alcohol\"]].median())"
      ]
    },
    {
      "cell_type": "markdown",
      "metadata": {
        "id": "AAm1zuKhkIve"
      },
      "source": [
        "### Step 8. Print the mean, min and max values for spirit consumption.\n",
        "#### This time output a DataFrame"
      ]
    },
    {
      "cell_type": "code",
      "execution_count": 9,
      "metadata": {
        "id": "fCgSCwAPkIve",
        "outputId": "1a895bce-ff5e-455a-a6f9-294f0f3eef5c",
        "colab": {
          "base_uri": "https://localhost:8080/"
        }
      },
      "outputs": [
        {
          "output_type": "stream",
          "name": "stdout",
          "text": [
            "Global min value:  0\n",
            "Global max value:  438\n",
            "Global mean value:  80.99481865284974\n",
            "AF  mean:  16.339622641509433\n",
            "AF  max:  152\n",
            "AF  min:  0\n",
            "AS  mean:  60.84090909090909\n",
            "AS  max:  326\n",
            "AS  min:  0\n",
            "EU  mean:  132.55555555555554\n",
            "EU  max:  373\n",
            "EU  min:  0\n",
            "OC  mean:  58.4375\n",
            "OC  max:  254\n",
            "OC  min:  0\n",
            "SA  mean:  114.75\n",
            "SA  max:  302\n",
            "SA  min:  25\n"
          ]
        }
      ],
      "source": [
        "groups = drinks.groupby(\"continent\")[\"spirit_servings\"]\n",
        "print(\"Global min value: \", drinks[\"spirit_servings\"].min())\n",
        "print(\"Global max value: \", drinks[\"spirit_servings\"].max())\n",
        "print(\"Global mean value: \",drinks[\"spirit_servings\"].mean())\n",
        "for name,group in groups:\n",
        "  print(name , \" mean: \", group.mean())\n",
        "  print(name, \" max: \", group.max())\n",
        "  print(name,\" min: \",group.min())\n"
      ]
    }
  ],
  "metadata": {
    "kernelspec": {
      "display_name": "Python 3 (ipykernel)",
      "language": "python",
      "name": "python3"
    },
    "language_info": {
      "codemirror_mode": {
        "name": "ipython",
        "version": 3
      },
      "file_extension": ".py",
      "mimetype": "text/x-python",
      "name": "python",
      "nbconvert_exporter": "python",
      "pygments_lexer": "ipython3",
      "version": "3.9.12"
    },
    "colab": {
      "provenance": []
    }
  },
  "nbformat": 4,
  "nbformat_minor": 0
}