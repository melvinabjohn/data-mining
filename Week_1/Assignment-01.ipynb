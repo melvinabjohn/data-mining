{
  "cells": [
    {
      "cell_type": "markdown",
      "metadata": {
        "id": "xOzv51ZieZu8"
      },
      "source": [
        "# Exercise I: Your own Python module "
      ]
    },
    {
      "cell_type": "markdown",
      "metadata": {
        "id": "TeGvORMEeZu9"
      },
      "source": [
        "Write your own python module (choose a name) with the following properties:\n",
        "\n",
        "1. start new python file for the module\n",
        "2. define a class ***ListKeeper*** with the following properties and API:\n",
        "   1. ***Listkeeper*** strores named lists (hint: use dictionaries) \n",
        "   2. it initializes with a list named *example*: [1,2,3,4,5]\n",
        "   3. ``show()`` returns all list names\n",
        "   4. ``add(name, list)`` adds a new list\n",
        "   5. ``delete(name)`` deletes list\n",
        "   6. ``sort(name)`` returns the sorted list *name*\n",
        "   7. ``append(name, list)`` appends *list* to *name* \n",
        "3. add comments and documentation to your class\n",
        "4. Import your module in this notebook\n",
        "5. write tests to check the functionality of your class "
      ]
    },
    {
      "cell_type": "markdown",
      "metadata": {
        "id": "kcA2mPuEeZu9"
      },
      "source": [
        "### Generate Python files from a Jupyter Cell"
      ]
    },
    {
      "cell_type": "code",
      "execution_count": null,
      "metadata": {
        "id": "l-4lTVEreZu9",
        "outputId": "cdbea55a-6ddd-4bfa-cd23-04fa3b40aa56"
      },
      "outputs": [
        {
          "name": "stdout",
          "output_type": "stream",
          "text": [
            "Overwriting MySuperModule.py\n"
          ]
        }
      ],
      "source": [
        "%%writefile MySuperModule.py\n",
        "\n",
        "#all code in this cell will be saved into the local File\n",
        "def test():\n",
        "    print(\"test\")"
      ]
    },
    {
      "cell_type": "code",
      "execution_count": null,
      "metadata": {
        "id": "GYoPfkjLeZu-"
      },
      "outputs": [],
      "source": [
        "import MySuperModule"
      ]
    },
    {
      "cell_type": "code",
      "execution_count": null,
      "metadata": {
        "id": "rz2Uiw67eZu-",
        "outputId": "15da9942-0cfb-4b86-c32c-d95e2cd87096"
      },
      "outputs": [
        {
          "name": "stdout",
          "output_type": "stream",
          "text": [
            "test\n"
          ]
        }
      ],
      "source": [
        "MySuperModule.test()"
      ]
    },
    {
      "cell_type": "code",
      "execution_count": 33,
      "metadata": {
        "id": "Le2eu42_eZu-",
        "outputId": "08da4107-6c28-4b02-bb89-bf4064911152",
        "colab": {
          "base_uri": "https://localhost:8080/"
        }
      },
      "outputs": [
        {
          "output_type": "stream",
          "name": "stdout",
          "text": [
            "['numbers', 'alpha']\n",
            "{'numbers': [40, 5, 10, 15, 20, 25], 'alpha': ['a', 'b', 'c'], 'special': ['!', '@']}\n",
            "{'numbers': [40, 5, 10, 15, 20, 25], 'special': ['!', '@']}\n",
            "[5, 10, 15, 20, 25, 40]\n",
            "[5, 10, 15, 20, 25, 40, 100, 200, [100, 200]]\n"
          ]
        }
      ],
      "source": [
        "class ListKeeper:\n",
        "\n",
        "  myDict = {\"numbers\":[40,5,10,15,20,25],\"alpha\":[\"a\",\"b\",\"c\"]}\n",
        "\n",
        "  def show(self):\n",
        "    listNames = list(self.myDict.keys())\n",
        "    return listNames\n",
        "\n",
        "  def add(self,name,list1):\n",
        "    self.myDict[name] = list1 #.update also can be used but, if the key is already present,then it will replace the old values with the new value provided\n",
        "    return self.myDict\n",
        "  \n",
        "  def delete(self,name):\n",
        "    del self.myDict[name] #.pop method also can be used\n",
        "    return self.myDict\n",
        "\n",
        "  def sort(self,name):\n",
        "    self.myDict[name].sort()#inbuild .sort method of list is used\n",
        "    return self.myDict[name]\n",
        "\n",
        "  def append(self, name, list):\n",
        "    self.myDict[name].extend(list)#.extend add the new list items to our list\n",
        "    self.myDict[name].append(list)#.append directly adds the new list as the last element of our list \n",
        "    return self.myDict[name]\n",
        "\n",
        "\n",
        "\n",
        "#---------------------Test Cases---------------------\n",
        "#creating an object for the class\n",
        "listKeeper = ListKeeper()\n",
        "\n",
        "#returns all list names\n",
        "print(listKeeper.show())\n",
        "#adds a new list\n",
        "print(listKeeper.add(\"special\",[\"!\",\"@\"]))\n",
        "#deletes list\n",
        "print(listKeeper.delete(\"alpha\"))\n",
        "#returns the sorted list name\n",
        "print(listKeeper.sort(\"numbers\"))\n",
        "#appends list to name\n",
        "print(listKeeper.append(\"numbers\",[100,200]))"
      ]
    },
    {
      "cell_type": "code",
      "source": [],
      "metadata": {
        "id": "qiGbSS8Kgcde"
      },
      "execution_count": null,
      "outputs": []
    }
  ],
  "metadata": {
    "kernelspec": {
      "display_name": "Python 3",
      "language": "python",
      "name": "python3"
    },
    "language_info": {
      "codemirror_mode": {
        "name": "ipython",
        "version": 3
      },
      "file_extension": ".py",
      "mimetype": "text/x-python",
      "name": "python",
      "nbconvert_exporter": "python",
      "pygments_lexer": "ipython3",
      "version": "3.7.6"
    },
    "colab": {
      "provenance": []
    }
  },
  "nbformat": 4,
  "nbformat_minor": 0
}