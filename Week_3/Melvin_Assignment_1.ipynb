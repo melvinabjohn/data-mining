{
  "cells": [
    {
      "cell_type": "markdown",
      "metadata": {
        "id": "Hc0j_KWvSGZ8"
      },
      "source": [
        "# Assignment 1 \n",
        "Hint: some method needed to solve these exercises have not been introduced so far. Follow the hints and use the ***pandas*** documentation."
      ]
    },
    {
      "cell_type": "code",
      "execution_count": null,
      "metadata": {
        "id": "zVvxIAuhSGZ-"
      },
      "outputs": [],
      "source": [
        "#get data\n",
        "!git clone https://github.com/keuperj/DATA.git"
      ]
    },
    {
      "cell_type": "markdown",
      "metadata": {
        "id": "7oxh0BBjSGZ_"
      },
      "source": [
        "\n",
        "### Step 1. Import the necessary libraries"
      ]
    },
    {
      "cell_type": "code",
      "execution_count": null,
      "metadata": {
        "id": "pMiz9YQ3SGZ_"
      },
      "outputs": [],
      "source": [
        "import pandas as pd"
      ]
    },
    {
      "cell_type": "markdown",
      "metadata": {
        "id": "JDA1hz1OSGZ_"
      },
      "source": [
        "### Step 2.\n",
        "Browse the data file in ``DATA/u.user.csv``. What does this data set represent?"
      ]
    },
    {
      "cell_type": "markdown",
      "metadata": {
        "id": "94q85pG_SGaA"
      },
      "source": [
        "### Step 3. Read the CSV data into a pandas DataFrame. Assign it to a variable called users and use the 'user_id' as index"
      ]
    },
    {
      "cell_type": "code",
      "execution_count": 1,
      "metadata": {
        "id": "NTHGjV8JSGaA",
        "outputId": "faaee454-bb9d-4196-c657-3bb7ce1a36ad",
        "colab": {
          "base_uri": "https://localhost:8080/",
          "height": 164
        }
      },
      "outputs": [
        {
          "output_type": "error",
          "ename": "NameError",
          "evalue": "ignored",
          "traceback": [
            "\u001b[0;31m---------------------------------------------------------------------------\u001b[0m",
            "\u001b[0;31mNameError\u001b[0m                                 Traceback (most recent call last)",
            "\u001b[0;32m<ipython-input-1-b1444b5f8688>\u001b[0m in \u001b[0;36m<module>\u001b[0;34m\u001b[0m\n\u001b[0;32m----> 1\u001b[0;31m \u001b[0mpd\u001b[0m\u001b[0;34m.\u001b[0m\u001b[0mread_csv\u001b[0m\u001b[0;34m(\u001b[0m\u001b[0;34m'DATA/u.user.csv'\u001b[0m\u001b[0;34m)\u001b[0m\u001b[0;34m\u001b[0m\u001b[0;34m\u001b[0m\u001b[0m\n\u001b[0m",
            "\u001b[0;31mNameError\u001b[0m: name 'pd' is not defined"
          ]
        }
      ],
      "source": [
        "data = pd.read_csv('DATA/u.user.csv')\n",
        "print(data)"
      ]
    },
    {
      "cell_type": "markdown",
      "metadata": {
        "id": "G9kGdMfWSGaA"
      },
      "source": [
        "### Step 4. Print the first 25 entries"
      ]
    },
    {
      "cell_type": "code",
      "execution_count": null,
      "metadata": {
        "scrolled": true,
        "id": "NCB-fiU-SGaA"
      },
      "outputs": [],
      "source": [
        "print (data[:25])"
      ]
    },
    {
      "cell_type": "markdown",
      "metadata": {
        "id": "-szJ4z4eSGaA"
      },
      "source": [
        "### Step 5. Print the last 10 entries"
      ]
    },
    {
      "cell_type": "code",
      "execution_count": null,
      "metadata": {
        "scrolled": true,
        "id": "Z-rZU0YgSGaA"
      },
      "outputs": [],
      "source": [
        "last_10_entries = data.tail(10)  \n",
        "print(last_10_entries)"
      ]
    },
    {
      "cell_type": "markdown",
      "metadata": {
        "id": "yWxf-vEJSGaA"
      },
      "source": [
        "### Step 6. What is the number of observations in the dataset?"
      ]
    },
    {
      "cell_type": "code",
      "execution_count": null,
      "metadata": {
        "id": "Hat3Ej1FSGaA"
      },
      "outputs": [],
      "source": [
        "df = pd.DataFrame(data)"
      ]
    },
    {
      "cell_type": "markdown",
      "metadata": {
        "id": "RT_dHKfCSGaB"
      },
      "source": [
        "### Step 7. What is the number of columns in the dataset?"
      ]
    },
    {
      "cell_type": "code",
      "execution_count": null,
      "metadata": {
        "id": "t8cg2X5XSGaB"
      },
      "outputs": [],
      "source": [
        "df.shape"
      ]
    },
    {
      "cell_type": "markdown",
      "metadata": {
        "id": "z4-jq9s2SGaB"
      },
      "source": [
        "### Step 8. Print the name of all the columns."
      ]
    },
    {
      "cell_type": "code",
      "execution_count": null,
      "metadata": {
        "id": "HiDK1qbvSGaB"
      },
      "outputs": [],
      "source": [
        "print(list(df.columns))"
      ]
    },
    {
      "cell_type": "markdown",
      "metadata": {
        "id": "7edxcSw0SGaB"
      },
      "source": [
        "### Step 9. How is the dataset indexed?"
      ]
    },
    {
      "cell_type": "code",
      "execution_count": null,
      "metadata": {
        "id": "jYB7bi7GSGaB"
      },
      "outputs": [],
      "source": [
        "first = df[list(df.columns)]\n",
        "print (first)"
      ]
    },
    {
      "cell_type": "markdown",
      "metadata": {
        "id": "_o8npfm-SGaB"
      },
      "source": [
        "### Step 10. What is the data type of each column?\n",
        "Hint: this works like in NumPy"
      ]
    },
    {
      "cell_type": "code",
      "execution_count": null,
      "metadata": {
        "id": "x645V72tSGaC"
      },
      "outputs": [],
      "source": []
    },
    {
      "cell_type": "markdown",
      "metadata": {
        "id": "8HkaM0RjSGaC"
      },
      "source": [
        "### Step 11. Print only the occupation column"
      ]
    },
    {
      "cell_type": "code",
      "execution_count": null,
      "metadata": {
        "id": "K0Le09ATSGaC"
      },
      "outputs": [],
      "source": []
    },
    {
      "cell_type": "markdown",
      "metadata": {
        "id": "nJ0deZyNSGaC"
      },
      "source": [
        "### Step 12. How many different occupations there are in this dataset? \n",
        "Hint: try the ``nunique()`` function."
      ]
    },
    {
      "cell_type": "code",
      "execution_count": null,
      "metadata": {
        "id": "Kci1fcjTSGaC"
      },
      "outputs": [],
      "source": []
    },
    {
      "cell_type": "markdown",
      "metadata": {
        "id": "P5MCaW1FSGaC"
      },
      "source": [
        "### Step 13. What is the most frequent occupation?\n",
        "Hint: ``value_counts()``"
      ]
    },
    {
      "cell_type": "code",
      "execution_count": null,
      "metadata": {
        "id": "tpU_UwHhSGaC"
      },
      "outputs": [],
      "source": []
    },
    {
      "cell_type": "markdown",
      "metadata": {
        "id": "VHQA4fHZSGaD"
      },
      "source": [
        "### Step 14. Summarize the DataFrame."
      ]
    },
    {
      "cell_type": "code",
      "execution_count": null,
      "metadata": {
        "id": "o2yjf7XjSGaD"
      },
      "outputs": [],
      "source": []
    },
    {
      "cell_type": "markdown",
      "metadata": {
        "id": "brXPYVgmSGaD"
      },
      "source": [
        "### Step 15. Summarize all the columns"
      ]
    },
    {
      "cell_type": "code",
      "execution_count": null,
      "metadata": {
        "scrolled": true,
        "id": "dV5M0UCNSGaD"
      },
      "outputs": [],
      "source": []
    },
    {
      "cell_type": "markdown",
      "metadata": {
        "id": "zNXS3SMGSGaD"
      },
      "source": [
        "### Step 16. Summarize only the occupation column"
      ]
    },
    {
      "cell_type": "code",
      "execution_count": null,
      "metadata": {
        "id": "NzsRNBJQSGaD"
      },
      "outputs": [],
      "source": []
    },
    {
      "cell_type": "markdown",
      "metadata": {
        "id": "38X1QZTfSGaE"
      },
      "source": [
        "### Step 17. What is the mean age of users?"
      ]
    },
    {
      "cell_type": "code",
      "execution_count": null,
      "metadata": {
        "id": "eWGSlC0VSGaE"
      },
      "outputs": [],
      "source": []
    },
    {
      "cell_type": "markdown",
      "metadata": {
        "id": "TXFME-CgSGaE"
      },
      "source": [
        "### Step 18. What is the age with least occurrence?"
      ]
    },
    {
      "cell_type": "code",
      "execution_count": null,
      "metadata": {
        "id": "DfXvowUmSGaE"
      },
      "outputs": [],
      "source": []
    },
    {
      "cell_type": "code",
      "execution_count": null,
      "metadata": {
        "id": "7uuwOCZeSGaE"
      },
      "outputs": [],
      "source": []
    }
  ],
  "metadata": {
    "anaconda-cloud": {},
    "kernelspec": {
      "display_name": "Python 3 (ipykernel)",
      "language": "python",
      "name": "python3"
    },
    "language_info": {
      "codemirror_mode": {
        "name": "ipython",
        "version": 3
      },
      "file_extension": ".py",
      "mimetype": "text/x-python",
      "name": "python",
      "nbconvert_exporter": "python",
      "pygments_lexer": "ipython3",
      "version": "3.9.12"
    },
    "colab": {
      "provenance": []
    }
  },
  "nbformat": 4,
  "nbformat_minor": 0
}