{
  "cells": [
    {
      "cell_type": "markdown",
      "metadata": {
        "id": "sIcj9RpqZHMi"
      },
      "source": [
        "# Exercise I: Your own Python module "
      ]
    },
    {
      "cell_type": "markdown",
      "metadata": {
        "id": "S6K2yIn3ZHMk"
      },
      "source": [
        "Write your own python module (choose a name) with the following properties:\n",
        "\n",
        "1. start new python file for the module\n",
        "2. define a class ***ListKeeper*** with the following properties and API:\n",
        "   1. ***Listkeeper*** strores named lists (hint: use dictionaries) \n",
        "   2. it initializes with a list named *example*: [1,2,3,4,5]\n",
        "   3. ``show()`` returns all list names\n",
        "   4. ``add(name, list)`` adds a new list\n",
        "   5. ``delete(name)`` deletes list\n",
        "   6. ``sort(name)`` returns the sorted list *name*\n",
        "   7. ``append(name, list)`` appends *list* to *name* \n",
        "3. add comments and documentation to your class\n",
        "4. Import your module in this notebook\n",
        "5. write tests to check the functionality of your class "
      ]
    },
    {
      "cell_type": "markdown",
      "metadata": {
        "id": "mhTO1xlPZHMl"
      },
      "source": [
        "### Generate Python files from a Jupyter Cell"
      ]
    },
    {
      "cell_type": "code",
      "execution_count": null,
      "metadata": {
        "id": "ts0savlJZHMl",
        "outputId": "4732d06d-338c-454f-9fac-ff36c0313616"
      },
      "outputs": [
        {
          "name": "stdout",
          "output_type": "stream",
          "text": [
            "Overwriting MySuperModule.py\n"
          ]
        }
      ],
      "source": [
        "%%writefile MySuperModule.py\n",
        "\n",
        "#all code in this cell will be saved into the local File\n",
        "def test():\n",
        "    print(\"test\")"
      ]
    },
    {
      "cell_type": "code",
      "execution_count": null,
      "metadata": {
        "id": "fXTCI3uLZHMm"
      },
      "outputs": [],
      "source": [
        "import MySuperModule"
      ]
    },
    {
      "cell_type": "code",
      "execution_count": 7,
      "metadata": {
        "colab": {
          "base_uri": "https://localhost:8080/"
        },
        "id": "_OGJZkOZZHMn",
        "outputId": "a575b702-39f7-42ad-b684-6a5cb097561a"
      },
      "outputs": [
        {
          "output_type": "stream",
          "name": "stdout",
          "text": [
            "[[1, 2, 3, 4, 5], ['one', 'two', 'three']]\n"
          ]
        }
      ],
      "source": [
        "class ListKeeper:\n",
        "  def __init__(self):\n",
        "    self.dict1 = {\"one\":\"eins\"}\n",
        "    self.list1 = [1,2,3,4,5]\n",
        "    self.list2 = [\"one\",\"two\",\"three\"]\n",
        "\n",
        "  #dict1 = {\"one\":\"eins\"}\n",
        "  #list1 = [1,2,3,4,5]\n",
        "  #list2 = [\"one\",\"two\",\"three\"]\n",
        "\n",
        "  def show(self):\n",
        "    #listKeeper = ListKeeper()\n",
        "    listNames = [self.list1, self.list2]\n",
        "    return listNames\n",
        "\n",
        "listKeeper = ListKeeper()\n",
        "print(listKeeper.show())"
      ]
    }
  ],
  "metadata": {
    "kernelspec": {
      "display_name": "Python 3",
      "language": "python",
      "name": "python3"
    },
    "language_info": {
      "codemirror_mode": {
        "name": "ipython",
        "version": 3
      },
      "file_extension": ".py",
      "mimetype": "text/x-python",
      "name": "python",
      "nbconvert_exporter": "python",
      "pygments_lexer": "ipython3",
      "version": "3.7.6"
    },
    "colab": {
      "provenance": []
    }
  },
  "nbformat": 4,
  "nbformat_minor": 0
}